{
  "nbformat": 4,
  "nbformat_minor": 0,
  "metadata": {
    "colab": {
      "provenance": [],
      "authorship_tag": "ABX9TyPZTOIWVltX9+NhRf/t3pGb",
      "include_colab_link": true
    },
    "kernelspec": {
      "name": "python3",
      "display_name": "Python 3"
    },
    "language_info": {
      "name": "python"
    }
  },
  "cells": [
    {
      "cell_type": "markdown",
      "metadata": {
        "id": "view-in-github",
        "colab_type": "text"
      },
      "source": [
        "<a href=\"https://colab.research.google.com/github/Jhatrilok02/Fretron_Assignment/blob/main/apple_distribution.ipynb\" target=\"_parent\"><img src=\"https://colab.research.google.com/assets/colab-badge.svg\" alt=\"Open In Colab\"/></a>"
      ]
    },
    {
      "cell_type": "code",
      "source": [
        "# Weights in grams\n",
        "apple_weights = []\n",
        "while True:\n",
        "  user_input = int(input(\"Enter apple weight in gram (-1 to stop ) : \"))\n",
        "  if user_input == -1:\n",
        "    break\n",
        "  apple_weights.append(user_input)\n",
        "\n",
        "total_cost = 100  # Rupees\n",
        "ram_paid = 50\n",
        "shyam_paid = 30\n",
        "rahim_paid = 20\n",
        "\n",
        "#total_weight=sum(apple_weights)\n",
        "\n",
        "# Calculate the proportion of apples each person should get\n",
        "ram_proportion = (ram_paid / total_cost) * total_weight\n",
        "shyam_proportion = (shyam_paid / total_cost) * total_weight\n",
        "rahim_proportion = (rahim_paid / total_cost) * total_weight\n",
        "#print(ram_proportion,shyam_proportion,rahim_proportion)\n",
        "\n",
        "# Sort the apples by weight (descending)\n",
        "apple_weights.sort(reverse=True)\n",
        "#print(apple_weights)\n",
        "\n",
        "# Initialize lists to store the apples each person receives\n",
        "ram_apples = []\n",
        "shyam_apples = []\n",
        "rahim_apples = []\n",
        "\n",
        "# Distribute apples\n",
        "remaining_apples = apple_weights.copy()  # Create a copy to avoid modifying the original list\n",
        "\n",
        "def distribute_apples(person_apples, proportion, remaining_apples):\n",
        "  i = 0\n",
        "  while i < len(remaining_apples):\n",
        "    if remaining_apples[i] <= proportion:\n",
        "      person_apples.append(remaining_apples[i])\n",
        "      proportion -= remaining_apples[i]\n",
        "      remaining_apples.pop(i)  # Remove the apple from the remaining list\n",
        "    else:\n",
        "      i += 1  # Move to the next apple if it's too heavy\n",
        "\n",
        "distribute_apples(ram_apples, ram_proportion, remaining_apples)\n",
        "distribute_apples(shyam_apples, shyam_proportion, remaining_apples)\n",
        "distribute_apples(rahim_apples, rahim_proportion, remaining_apples)\n",
        "\n",
        "# Print results\n",
        "print(\"Ram's apples (total weight: {}g): {}\".format(sum(ram_apples), ram_apples))\n",
        "print(\"Shyam's apples (total weight: {}g): {}\".format(sum(shyam_apples), shyam_apples))\n",
        "print(\"Rahim's apples (total weight: {}g): {}\".format(sum(rahim_apples), rahim_apples))\n"
      ],
      "metadata": {
        "colab": {
          "base_uri": "https://localhost:8080/"
        },
        "id": "6RSwfk3S8J13",
        "outputId": "b0669549-4f97-4a85-faa0-4aae1e41d539"
      },
      "execution_count": 17,
      "outputs": [
        {
          "output_type": "stream",
          "name": "stdout",
          "text": [
            "Enter apple weight in gram (-1 to stop ) : 400\n",
            "Enter apple weight in gram (-1 to stop ) : 100\n",
            "Enter apple weight in gram (-1 to stop ) : 400\n",
            "Enter apple weight in gram (-1 to stop ) : 300\n",
            "Enter apple weight in gram (-1 to stop ) : 200\n",
            "Enter apple weight in gram (-1 to stop ) : 300\n",
            "Enter apple weight in gram (-1 to stop ) : 100\n",
            "Enter apple weight in gram (-1 to stop ) : 200\n",
            "Enter apple weight in gram (-1 to stop ) : -1\n",
            "Ram's apples (total weight: 1000g): [400, 400, 200]\n",
            "Shyam's apples (total weight: 600g): [300, 300]\n",
            "Rahim's apples (total weight: 400g): [200, 100, 100]\n"
          ]
        }
      ]
    }
  ]
}